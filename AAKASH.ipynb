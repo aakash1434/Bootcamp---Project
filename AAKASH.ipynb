{
  "nbformat": 4,
  "nbformat_minor": 0,
  "metadata": {
    "colab": {
      "name": "AAKASH.ipynb",
      "provenance": [],
      "collapsed_sections": []
    },
    "kernelspec": {
      "name": "python3",
      "display_name": "Python 3"
    },
    "language_info": {
      "name": "python"
    }
  },
  "cells": [
    {
      "cell_type": "markdown",
      "metadata": {
        "id": "5Qw3v7t5-aTk"
      },
      "source": [
        "Given data set\n",
        "\n"
      ]
    },
    {
      "cell_type": "code",
      "metadata": {
        "id": "DpDL6gbO5e48"
      },
      "source": [
        "#Let us import some packages.\n",
        "import pandas as pnd\n",
        "import numpy as npy"
      ],
      "execution_count": null,
      "outputs": []
    },
    {
      "cell_type": "markdown",
      "metadata": {
        "id": "jjUW_KSO5c_b"
      },
      "source": [
        "we use pandas read_csv function to read the csv file in python and pandas DataFrame method to convert the file into the dataframe."
      ]
    },
    {
      "cell_type": "code",
      "metadata": {
        "id": "inS5-06iAWOy"
      },
      "source": [
        "import matplotlib.pyplot as pltp\n",
        "import seaborn as sbn\n",
        "\n",
        "%matplotlib inline"
      ],
      "execution_count": null,
      "outputs": []
    },
    {
      "cell_type": "markdown",
      "metadata": {
        "id": "CVb4ll5_Af98"
      },
      "source": [
        "We use 'matplotlib.pyplot' function to do and analysis using piechat,barchat,histograms like that."
      ]
    },
    {
      "cell_type": "code",
      "metadata": {
        "colab": {
          "base_uri": "https://localhost:8080/",
          "height": 204
        },
        "id": "OwT5l9cGGwaK",
        "outputId": "4ca44157-6e52-4abd-d46b-876ec86da65c"
      },
      "source": [
        "DataFrame=pnd.DataFrame(pnd.read_csv('/content/train (1).csv'))\n",
        "DataFrame.head()"
      ],
      "execution_count": null,
      "outputs": [
        {
          "output_type": "execute_result",
          "data": {
            "text/html": [
              "<div>\n",
              "<style scoped>\n",
              "    .dataframe tbody tr th:only-of-type {\n",
              "        vertical-align: middle;\n",
              "    }\n",
              "\n",
              "    .dataframe tbody tr th {\n",
              "        vertical-align: top;\n",
              "    }\n",
              "\n",
              "    .dataframe thead th {\n",
              "        text-align: right;\n",
              "    }\n",
              "</style>\n",
              "<table border=\"1\" class=\"dataframe\">\n",
              "  <thead>\n",
              "    <tr style=\"text-align: right;\">\n",
              "      <th></th>\n",
              "      <th>PassengerId</th>\n",
              "      <th>Survived</th>\n",
              "      <th>Pclass</th>\n",
              "      <th>Name</th>\n",
              "      <th>Sex</th>\n",
              "      <th>Age</th>\n",
              "      <th>SibSp</th>\n",
              "      <th>Parch</th>\n",
              "      <th>Ticket</th>\n",
              "      <th>Fare</th>\n",
              "      <th>Cabin</th>\n",
              "      <th>Embarked</th>\n",
              "    </tr>\n",
              "  </thead>\n",
              "  <tbody>\n",
              "    <tr>\n",
              "      <th>0</th>\n",
              "      <td>1</td>\n",
              "      <td>0</td>\n",
              "      <td>3</td>\n",
              "      <td>Braund, Mr. Owen Harris</td>\n",
              "      <td>male</td>\n",
              "      <td>22.0</td>\n",
              "      <td>1</td>\n",
              "      <td>0</td>\n",
              "      <td>A/5 21171</td>\n",
              "      <td>7.2500</td>\n",
              "      <td>NaN</td>\n",
              "      <td>S</td>\n",
              "    </tr>\n",
              "    <tr>\n",
              "      <th>1</th>\n",
              "      <td>2</td>\n",
              "      <td>1</td>\n",
              "      <td>1</td>\n",
              "      <td>Cumings, Mrs. John Bradley (Florence Briggs Th...</td>\n",
              "      <td>female</td>\n",
              "      <td>38.0</td>\n",
              "      <td>1</td>\n",
              "      <td>0</td>\n",
              "      <td>PC 17599</td>\n",
              "      <td>71.2833</td>\n",
              "      <td>C85</td>\n",
              "      <td>C</td>\n",
              "    </tr>\n",
              "    <tr>\n",
              "      <th>2</th>\n",
              "      <td>3</td>\n",
              "      <td>1</td>\n",
              "      <td>3</td>\n",
              "      <td>Heikkinen, Miss. Laina</td>\n",
              "      <td>female</td>\n",
              "      <td>26.0</td>\n",
              "      <td>0</td>\n",
              "      <td>0</td>\n",
              "      <td>STON/O2. 3101282</td>\n",
              "      <td>7.9250</td>\n",
              "      <td>NaN</td>\n",
              "      <td>S</td>\n",
              "    </tr>\n",
              "    <tr>\n",
              "      <th>3</th>\n",
              "      <td>4</td>\n",
              "      <td>1</td>\n",
              "      <td>1</td>\n",
              "      <td>Futrelle, Mrs. Jacques Heath (Lily May Peel)</td>\n",
              "      <td>female</td>\n",
              "      <td>35.0</td>\n",
              "      <td>1</td>\n",
              "      <td>0</td>\n",
              "      <td>113803</td>\n",
              "      <td>53.1000</td>\n",
              "      <td>C123</td>\n",
              "      <td>S</td>\n",
              "    </tr>\n",
              "    <tr>\n",
              "      <th>4</th>\n",
              "      <td>5</td>\n",
              "      <td>0</td>\n",
              "      <td>3</td>\n",
              "      <td>Allen, Mr. William Henry</td>\n",
              "      <td>male</td>\n",
              "      <td>35.0</td>\n",
              "      <td>0</td>\n",
              "      <td>0</td>\n",
              "      <td>373450</td>\n",
              "      <td>8.0500</td>\n",
              "      <td>NaN</td>\n",
              "      <td>S</td>\n",
              "    </tr>\n",
              "  </tbody>\n",
              "</table>\n",
              "</div>"
            ],
            "text/plain": [
              "   PassengerId  Survived  Pclass  ...     Fare Cabin  Embarked\n",
              "0            1         0       3  ...   7.2500   NaN         S\n",
              "1            2         1       1  ...  71.2833   C85         C\n",
              "2            3         1       3  ...   7.9250   NaN         S\n",
              "3            4         1       1  ...  53.1000  C123         S\n",
              "4            5         0       3  ...   8.0500   NaN         S\n",
              "\n",
              "[5 rows x 12 columns]"
            ]
          },
          "metadata": {
            "tags": []
          },
          "execution_count": 3
        }
      ]
    },
    {
      "cell_type": "code",
      "metadata": {
        "colab": {
          "base_uri": "https://localhost:8080/"
        },
        "id": "LVPiSPJ_HGS0",
        "outputId": "1813b7b7-e5b1-41d5-cdf6-556fd5e61d71"
      },
      "source": [
        "DataFrame.shape"
      ],
      "execution_count": null,
      "outputs": [
        {
          "output_type": "execute_result",
          "data": {
            "text/plain": [
              "(891, 12)"
            ]
          },
          "metadata": {
            "tags": []
          },
          "execution_count": 4
        }
      ]
    },
    {
      "cell_type": "markdown",
      "metadata": {
        "id": "lY-iRRtOrzAs"
      },
      "source": [
        "It shows the number of rows and columns in the given data set."
      ]
    },
    {
      "cell_type": "code",
      "metadata": {
        "colab": {
          "base_uri": "https://localhost:8080/"
        },
        "id": "mbitCzFVw6Z4",
        "outputId": "8a84e736-c6aa-4ca4-936b-590575557708"
      },
      "source": [
        "DataFrame.size"
      ],
      "execution_count": null,
      "outputs": [
        {
          "output_type": "execute_result",
          "data": {
            "text/plain": [
              "10692"
            ]
          },
          "metadata": {
            "tags": []
          },
          "execution_count": 5
        }
      ]
    },
    {
      "cell_type": "markdown",
      "metadata": {
        "id": "AAesE7HSwvdc"
      },
      "source": [
        "'DataFrame.size' method returns us the total number of elemnts in the DataFrame."
      ]
    },
    {
      "cell_type": "code",
      "metadata": {
        "colab": {
          "base_uri": "https://localhost:8080/"
        },
        "id": "tnVizao_xL_5",
        "outputId": "2f400735-fb5d-4dda-8982-6ec97b9fe240"
      },
      "source": [
        "DataFrame.ndim"
      ],
      "execution_count": null,
      "outputs": [
        {
          "output_type": "execute_result",
          "data": {
            "text/plain": [
              "2"
            ]
          },
          "metadata": {
            "tags": []
          },
          "execution_count": 6
        }
      ]
    },
    {
      "cell_type": "markdown",
      "metadata": {
        "id": "A-FL5ldhzzgI"
      },
      "source": [
        "'DataFrame.ndim' method is used here to find the dimension of the given data set.so that only we can perform some analyses."
      ]
    },
    {
      "cell_type": "code",
      "metadata": {
        "colab": {
          "base_uri": "https://localhost:8080/"
        },
        "id": "UMxcdz6f0jIo",
        "outputId": "6fb62e4c-1025-4bc2-a8b1-ed372d460599"
      },
      "source": [
        "DataFrame.index "
      ],
      "execution_count": null,
      "outputs": [
        {
          "output_type": "execute_result",
          "data": {
            "text/plain": [
              "RangeIndex(start=0, stop=891, step=1)"
            ]
          },
          "metadata": {
            "tags": []
          },
          "execution_count": 7
        }
      ]
    },
    {
      "cell_type": "markdown",
      "metadata": {
        "id": "i-G1R19z02AS"
      },
      "source": [
        "Here the 'DataFrame.index' method is used to find the total number of persons travelled.It says that there are 891 peoples had travelled there."
      ]
    },
    {
      "cell_type": "code",
      "metadata": {
        "colab": {
          "base_uri": "https://localhost:8080/"
        },
        "id": "nXF-Gpvr0lT7",
        "outputId": "da87a9e4-3f6b-463f-8584-ba9a002b5cb7"
      },
      "source": [
        "DataFrame.values"
      ],
      "execution_count": null,
      "outputs": [
        {
          "output_type": "execute_result",
          "data": {
            "text/plain": [
              "array([[1, 0, 3, ..., 7.25, nan, 'S'],\n",
              "       [2, 1, 1, ..., 71.2833, 'C85', 'C'],\n",
              "       [3, 1, 3, ..., 7.925, nan, 'S'],\n",
              "       ...,\n",
              "       [889, 0, 3, ..., 23.45, nan, 'S'],\n",
              "       [890, 1, 1, ..., 30.0, 'C148', 'C'],\n",
              "       [891, 0, 3, ..., 7.75, nan, 'Q']], dtype=object)"
            ]
          },
          "metadata": {
            "tags": []
          },
          "execution_count": 8
        }
      ]
    },
    {
      "cell_type": "markdown",
      "metadata": {
        "id": "88S67djp88m5"
      },
      "source": [
        "Let us create a barchat and make some analysis."
      ]
    },
    {
      "cell_type": "code",
      "metadata": {
        "colab": {
          "base_uri": "https://localhost:8080/",
          "height": 279
        },
        "id": "fpij0ZCA8HjL",
        "outputId": "ab9fd19d-1059-412c-d37e-a1de007cc5f5"
      },
      "source": [
        "sbn.countplot(data=DataFrame , x='Survived');"
      ],
      "execution_count": null,
      "outputs": [
        {
          "output_type": "display_data",
          "data": {
            "image/png": "[encoded data removed]",
            "text/plain": [
              "<Figure size 432x288 with 1 Axes>"
            ]
          },
          "metadata": {
            "tags": [],
            "needs_background": "light"
          }
        }
      ]
    },
    {
      "cell_type": "markdown",
      "metadata": {
        "id": "lo2JVH5-9OnN"
      },
      "source": [
        "'0' means False.That is the person does not survived.\n",
        "'1' means True.That is the person survived."
      ]
    },
    {
      "cell_type": "markdown",
      "metadata": {
        "id": "Lq-CzyGQ9EJ6"
      },
      "source": [
        "So,this barchat clearly showing that by analysis,found that,majority of the people or maximum people travelled was not survived or dead.and only minimum number of peoples was survived."
      ]
    },
    {
      "cell_type": "code",
      "metadata": {
        "colab": {
          "base_uri": "https://localhost:8080/",
          "height": 248
        },
        "id": "ruvRD6P_BD9h",
        "outputId": "edef45ee-5592-479a-e1dc-bafd37672abe"
      },
      "source": [
        "sorted_counts = DataFrame['Embarked'].value_counts()\n",
        "pltp.pie(sorted_counts, labels=sorted_counts.index, wedgeprops = {'width' : 0.3});\n",
        "pltp.axis('square');"
      ],
      "execution_count": null,
      "outputs": [
        {
          "output_type": "display_data",
          "data": {
            "image/png": "[encoded data removed]",
            "text/plain": [
              "<Figure size 432x288 with 1 Axes>"
            ]
          },
          "metadata": {
            "tags": []
          }
        }
      ]
    },
    {
      "cell_type": "markdown",
      "metadata": {
        "id": "uTK-KYzCEwOe"
      },
      "source": [
        "This histogram clearly tells that very large people had travelled to 'Southampton' and very less people travelled to 'Queenstown'.And moderate people travelled to 'Cherbourg'."
      ]
    },
    {
      "cell_type": "code",
      "metadata": {
        "colab": {
          "base_uri": "https://localhost:8080/",
          "height": 248
        },
        "id": "IkfGiLEAStrs",
        "outputId": "6cbb881c-7e8a-44f7-b85e-bcbf4afbcecd"
      },
      "source": [
        "sorted_counts=DataFrame['Sex'].value_counts()\n",
        "pltp.pie(sorted_counts, labels = sorted_counts.index)\n",
        "pltp.axis('square');"
      ],
      "execution_count": null,
      "outputs": [
        {
          "output_type": "display_data",
          "data": {
            "image/png": "[encoded data removed]",
            "text/plain": [
              "<Figure size 432x288 with 1 Axes>"
            ]
          },
          "metadata": {
            "tags": []
          }
        }
      ]
    },
    {
      "cell_type": "markdown",
      "metadata": {
        "id": "HefyuX4XQbYP"
      },
      "source": [
        "This piechart explains us that majority people travelled are male,as compared to proportion of female."
      ]
    },
    {
      "cell_type": "code",
      "metadata": {
        "colab": {
          "base_uri": "https://localhost:8080/",
          "height": 279
        },
        "id": "cNnu0xMoJGpE",
        "outputId": "1745522c-a8d2-4c5e-d8fb-6ba2e2238e9c"
      },
      "source": [
        "sbn.countplot( data = DataFrame, x ='Pclass');"
      ],
      "execution_count": null,
      "outputs": [
        {
          "output_type": "display_data",
          "data": {
            "image/png": "[encoded data removed]",
            "text/plain": [
              "<Figure size 432x288 with 1 Axes>"
            ]
          },
          "metadata": {
            "tags": [],
            "needs_background": "light"
          }
        }
      ]
    },
    {
      "cell_type": "markdown",
      "metadata": {
        "id": "sHyvACeuBPT2"
      },
      "source": [
        "Let us make an analyses based on age of the people travelled"
      ]
    },
    {
      "cell_type": "code",
      "metadata": {
        "colab": {
          "base_uri": "https://localhost:8080/",
          "height": 486
        },
        "id": "70DlRPsnJkL_",
        "outputId": "f0307aa8-c5c0-4841-e585-5b02f0213303"
      },
      "source": [
        "pltp.hist(data=DataFrame,x='Age',bins=50)"
      ],
      "execution_count": null,
      "outputs": [
        {
          "output_type": "execute_result",
          "data": {
            "text/plain": [
              "(array([24.,  6., 14.,  3.,  7.,  8.,  6.,  3.,  7., 22., 13., 51., 40.,\n",
              "        27., 46., 24., 36., 47., 27., 35., 17., 34., 29., 11., 27.,  8.,\n",
              "        18.,  9., 17., 18.,  6., 17.,  6.,  9.,  7.,  2.,  7.,  4.,  7.,\n",
              "         4.,  3.,  1.,  0.,  2.,  3.,  0.,  1.,  0.,  0.,  1.]),\n",
              " array([ 0.42  ,  2.0116,  3.6032,  5.1948,  6.7864,  8.378 ,  9.9696,\n",
              "        11.5612, 13.1528, 14.7444, 16.336 , 17.9276, 19.5192, 21.1108,\n",
              "        22.7024, 24.294 , 25.8856, 27.4772, 29.0688, 30.6604, 32.252 ,\n",
              "        33.8436, 35.4352, 37.0268, 38.6184, 40.21  , 41.8016, 43.3932,\n",
              "        44.9848, 46.5764, 48.168 , 49.7596, 51.3512, 52.9428, 54.5344,\n",
              "        56.126 , 57.7176, 59.3092, 60.9008, 62.4924, 64.084 , 65.6756,\n",
              "        67.2672, 68.8588, 70.4504, 72.042 , 73.6336, 75.2252, 76.8168,\n",
              "        78.4084, 80.    ]),\n",
              " <a list of 50 Patch objects>)"
            ]
          },
          "metadata": {
            "tags": []
          },
          "execution_count": 13
        },
        {
          "output_type": "display_data",
          "data": {
            "image/png": "[encoded data removed]",
            "text/plain": [
              "<Figure size 432x288 with 1 Axes>"
            ]
          },
          "metadata": {
            "tags": [],
            "needs_background": "light"
          }
        }
      ]
    },
    {
      "cell_type": "markdown",
      "metadata": {
        "id": "-5Eq0s8dLlFU"
      },
      "source": [
        "So,We can here see that the passengers at age range of 28 to 30 is majority,That is many of the people are at age range of 28 to 31."
      ]
    },
    {
      "cell_type": "markdown",
      "metadata": {
        "id": "5jzwzNcM4BIQ"
      },
      "source": [
        "Next,we shall find the family size of the each person,that can be done by adding the columns 'sibsp' and 'parch' and make them a separate column,becuase 'sibsp' refers to the siblings and spouses abroad,and 'parch' refers to the parents and children abroad,so the code be,"
      ]
    },
    {
      "cell_type": "code",
      "metadata": {
        "colab": {
          "base_uri": "https://localhost:8080/",
          "height": 235
        },
        "id": "t7upahfF3zEw",
        "outputId": "887ae898-329a-44da-9cd0-0072ffb57318"
      },
      "source": [
        "DataFrame['Family_size'] = DataFrame['SibSp']+DataFrame['Parch']\n",
        "DataFrame.drop(['SibSp','Parch'], axis=1, inplace = True)\n",
        "DataFrame.corr()"
      ],
      "execution_count": null,
      "outputs": [
        {
          "output_type": "execute_result",
          "data": {
            "text/html": [
              "<div>\n",
              "<style scoped>\n",
              "    .dataframe tbody tr th:only-of-type {\n",
              "        vertical-align: middle;\n",
              "    }\n",
              "\n",
              "    .dataframe tbody tr th {\n",
              "        vertical-align: top;\n",
              "    }\n",
              "\n",
              "    .dataframe thead th {\n",
              "        text-align: right;\n",
              "    }\n",
              "</style>\n",
              "<table border=\"1\" class=\"dataframe\">\n",
              "  <thead>\n",
              "    <tr style=\"text-align: right;\">\n",
              "      <th></th>\n",
              "      <th>PassengerId</th>\n",
              "      <th>Survived</th>\n",
              "      <th>Pclass</th>\n",
              "      <th>Age</th>\n",
              "      <th>Fare</th>\n",
              "      <th>Family_size</th>\n",
              "    </tr>\n",
              "  </thead>\n",
              "  <tbody>\n",
              "    <tr>\n",
              "      <th>PassengerId</th>\n",
              "      <td>1.000000</td>\n",
              "      <td>-0.005007</td>\n",
              "      <td>-0.035144</td>\n",
              "      <td>0.036847</td>\n",
              "      <td>0.012658</td>\n",
              "      <td>-0.040143</td>\n",
              "    </tr>\n",
              "    <tr>\n",
              "      <th>Survived</th>\n",
              "      <td>-0.005007</td>\n",
              "      <td>1.000000</td>\n",
              "      <td>-0.338481</td>\n",
              "      <td>-0.077221</td>\n",
              "      <td>0.257307</td>\n",
              "      <td>0.016639</td>\n",
              "    </tr>\n",
              "    <tr>\n",
              "      <th>Pclass</th>\n",
              "      <td>-0.035144</td>\n",
              "      <td>-0.338481</td>\n",
              "      <td>1.000000</td>\n",
              "      <td>-0.369226</td>\n",
              "      <td>-0.549500</td>\n",
              "      <td>0.065997</td>\n",
              "    </tr>\n",
              "    <tr>\n",
              "      <th>Age</th>\n",
              "      <td>0.036847</td>\n",
              "      <td>-0.077221</td>\n",
              "      <td>-0.369226</td>\n",
              "      <td>1.000000</td>\n",
              "      <td>0.096067</td>\n",
              "      <td>-0.301914</td>\n",
              "    </tr>\n",
              "    <tr>\n",
              "      <th>Fare</th>\n",
              "      <td>0.012658</td>\n",
              "      <td>0.257307</td>\n",
              "      <td>-0.549500</td>\n",
              "      <td>0.096067</td>\n",
              "      <td>1.000000</td>\n",
              "      <td>0.217138</td>\n",
              "    </tr>\n",
              "    <tr>\n",
              "      <th>Family_size</th>\n",
              "      <td>-0.040143</td>\n",
              "      <td>0.016639</td>\n",
              "      <td>0.065997</td>\n",
              "      <td>-0.301914</td>\n",
              "      <td>0.217138</td>\n",
              "      <td>1.000000</td>\n",
              "    </tr>\n",
              "  </tbody>\n",
              "</table>\n",
              "</div>"
            ],
            "text/plain": [
              "             PassengerId  Survived    Pclass       Age      Fare  Family_size\n",
              "PassengerId     1.000000 -0.005007 -0.035144  0.036847  0.012658    -0.040143\n",
              "Survived       -0.005007  1.000000 -0.338481 -0.077221  0.257307     0.016639\n",
              "Pclass         -0.035144 -0.338481  1.000000 -0.369226 -0.549500     0.065997\n",
              "Age             0.036847 -0.077221 -0.369226  1.000000  0.096067    -0.301914\n",
              "Fare            0.012658  0.257307 -0.549500  0.096067  1.000000     0.217138\n",
              "Family_size    -0.040143  0.016639  0.065997 -0.301914  0.217138     1.000000"
            ]
          },
          "metadata": {
            "tags": []
          },
          "execution_count": 14
        }
      ]
    },
    {
      "cell_type": "markdown",
      "metadata": {
        "id": "aqYujb9B5gEw"
      },
      "source": [
        "Yes,we can see that the correlance between alone and survival rate is less."
      ]
    },
    {
      "cell_type": "code",
      "metadata": {
        "colab": {
          "base_uri": "https://localhost:8080/",
          "height": 248
        },
        "id": "QWIOMVBev23K",
        "outputId": "1534ac6d-2378-4691-b5d7-53c7fad177fb"
      },
      "source": [
        "sorted_counts = DataFrame['Family_size'].value_counts()\n",
        "pltp.pie(sorted_counts, labels = sorted_counts.index, wedgeprops = {'width' : 0.6});"
      ],
      "execution_count": null,
      "outputs": [
        {
          "output_type": "display_data",
          "data": {
            "image/png": "[encoded data removed]",
            "text/plain": [
              "<Figure size 432x288 with 1 Axes>"
            ]
          },
          "metadata": {
            "tags": []
          }
        }
      ]
    },
    {
      "cell_type": "markdown",
      "metadata": {
        "id": "B_DWJd6d0L0J"
      },
      "source": [
        "This piechart clearly says that majority of people travelled alone."
      ]
    },
    {
      "cell_type": "markdown",
      "metadata": {
        "id": "DKsyXKRDJpOY"
      },
      "source": [
        "# DEALING WITH NULL VALUES:"
      ]
    },
    {
      "cell_type": "code",
      "metadata": {
        "id": "jI2jNtiz4-cu",
        "colab": {
          "base_uri": "https://localhost:8080/"
        },
        "outputId": "50dc8fc2-8e1d-44dc-c6c4-143e20cc1cbe"
      },
      "source": [
        "DataFrame.isnull().any().sum()"
      ],
      "execution_count": null,
      "outputs": [
        {
          "output_type": "execute_result",
          "data": {
            "text/plain": [
              "3"
            ]
          },
          "metadata": {
            "tags": []
          },
          "execution_count": 16
        }
      ]
    },
    {
      "cell_type": "markdown",
      "metadata": {
        "id": "dhf-rMk377Gp"
      },
      "source": [
        "It shows that 3 columns that have the null values in it."
      ]
    },
    {
      "cell_type": "markdown",
      "metadata": {
        "id": "7IrS-6gDKhnq"
      },
      "source": [
        "Null values are which the columns are rows in the data frame may be null or not containing any value...so we can leave that column or row simply or fill them with some values...it is called dealing with null values..."
      ]
    },
    {
      "cell_type": "code",
      "metadata": {
        "id": "R6xguotOLBGS",
        "colab": {
          "base_uri": "https://localhost:8080/"
        },
        "outputId": "273e4505-3d49-45ca-ccc3-0ab73b93ff5d"
      },
      "source": [
        "DataFrame.isnull().sum()"
      ],
      "execution_count": null,
      "outputs": [
        {
          "output_type": "execute_result",
          "data": {
            "text/plain": [
              "PassengerId      0\n",
              "Survived         0\n",
              "Pclass           0\n",
              "Name             0\n",
              "Sex              0\n",
              "Age            177\n",
              "Ticket           0\n",
              "Fare             0\n",
              "Cabin          687\n",
              "Embarked         2\n",
              "Family_size      0\n",
              "dtype: int64"
            ]
          },
          "metadata": {
            "tags": []
          },
          "execution_count": 17
        }
      ]
    },
    {
      "cell_type": "markdown",
      "metadata": {
        "id": "AkhiawwGMKLz"
      },
      "source": [
        "Let us have a look at the column that has null values more than 50% in the dataframe with us."
      ]
    },
    {
      "cell_type": "markdown",
      "metadata": {
        "id": "VIx3OhjA6yc2"
      },
      "source": [
        "DataFrame.isnull().sum() code returns the pandas series with column name as the label index.\n",
        "And the count of the total null values in its as the value for it.\n",
        "We are counting only the column that have null values more than 50%."
      ]
    },
    {
      "cell_type": "code",
      "metadata": {
        "id": "x461L5ODPKpT",
        "colab": {
          "base_uri": "https://localhost:8080/"
        },
        "outputId": "35fec70d-b704-4985-9809-b7a63488b15d"
      },
      "source": [
        "drop_col = DataFrame.isnull().sum()[DataFrame.isnull().sum() > (50/100 * DataFrame.shape[0])]\n",
        "drop_col"
      ],
      "execution_count": null,
      "outputs": [
        {
          "output_type": "execute_result",
          "data": {
            "text/plain": [
              "Cabin    687\n",
              "dtype: int64"
            ]
          },
          "metadata": {
            "tags": []
          },
          "execution_count": 18
        }
      ]
    },
    {
      "cell_type": "markdown",
      "metadata": {
        "id": "aKk1_fzNWD4g"
      },
      "source": [
        "**NOTE**: There is no certain number to after that we should drop the column.We can drop the column whichever we want or whatever we decided. "
      ]
    },
    {
      "cell_type": "code",
      "metadata": {
        "id": "hMxmYEl7XLo4",
        "colab": {
          "base_uri": "https://localhost:8080/"
        },
        "outputId": "1be94d3c-7565-47d1-c74b-b529fbecc0b9"
      },
      "source": [
        "drop_col.index"
      ],
      "execution_count": null,
      "outputs": [
        {
          "output_type": "execute_result",
          "data": {
            "text/plain": [
              "Index(['Cabin'], dtype='object')"
            ]
          },
          "metadata": {
            "tags": []
          },
          "execution_count": 19
        }
      ]
    },
    {
      "cell_type": "code",
      "metadata": {
        "id": "ZsuY8-lsXLXW",
        "colab": {
          "base_uri": "https://localhost:8080/"
        },
        "outputId": "2f927850-ee83-4f23-ff60-18640ac40156"
      },
      "source": [
        "DataFrame.drop(drop_col.index, axis=1, inplace=True)\n",
        "DataFrame.isnull().sum()\n"
      ],
      "execution_count": null,
      "outputs": [
        {
          "output_type": "execute_result",
          "data": {
            "text/plain": [
              "PassengerId      0\n",
              "Survived         0\n",
              "Pclass           0\n",
              "Name             0\n",
              "Sex              0\n",
              "Age            177\n",
              "Ticket           0\n",
              "Fare             0\n",
              "Embarked         2\n",
              "Family_size      0\n",
              "dtype: int64"
            ]
          },
          "metadata": {
            "tags": []
          },
          "execution_count": 20
        }
      ]
    },
    {
      "cell_type": "code",
      "metadata": {
        "id": "QW683Hm9b8iZ",
        "colab": {
          "base_uri": "https://localhost:8080/"
        },
        "outputId": "43715684-141f-4c2f-9730-5234f98e0ab8"
      },
      "source": [
        "DataFrame.fillna(DataFrame.mean(), inplace = True)\n",
        "DataFrame.isnull().sum()"
      ],
      "execution_count": null,
      "outputs": [
        {
          "output_type": "execute_result",
          "data": {
            "text/plain": [
              "PassengerId    0\n",
              "Survived       0\n",
              "Pclass         0\n",
              "Name           0\n",
              "Sex            0\n",
              "Age            0\n",
              "Ticket         0\n",
              "Fare           0\n",
              "Embarked       2\n",
              "Family_size    0\n",
              "dtype: int64"
            ]
          },
          "metadata": {
            "tags": []
          },
          "execution_count": 21
        }
      ]
    },
    {
      "cell_type": "markdown",
      "metadata": {
        "id": "dSgMAUBXd7O-"
      },
      "source": [
        "**Next,**We are going to see the details about the column **'Embarked'**,becuase numbers have mean value,wile the strings or letters not have,so embarked have strings and numbers separate from other columns,"
      ]
    },
    {
      "cell_type": "code",
      "metadata": {
        "id": "I3qVy5xDep6k",
        "colab": {
          "base_uri": "https://localhost:8080/"
        },
        "outputId": "b03fe137-2ae7-4b20-9548-4a6cd0594dad"
      },
      "source": [
        "DataFrame['Embarked'].describe()"
      ],
      "execution_count": null,
      "outputs": [
        {
          "output_type": "execute_result",
          "data": {
            "text/plain": [
              "count     889\n",
              "unique      3\n",
              "top         S\n",
              "freq      644\n",
              "Name: Embarked, dtype: object"
            ]
          },
          "metadata": {
            "tags": []
          },
          "execution_count": 22
        }
      ]
    },
    {
      "cell_type": "markdown",
      "metadata": {
        "id": "44AxCg_BfPQ6"
      },
      "source": [
        "Out of this column that have 889 entries,shall we see about the null values in it, "
      ]
    },
    {
      "cell_type": "code",
      "metadata": {
        "id": "cPbgFxP6e86U",
        "colab": {
          "base_uri": "https://localhost:8080/"
        },
        "outputId": "e4a77082-0dfd-4d28-8fb0-d5cfa9e1b49c"
      },
      "source": [
        "DataFrame.isnull().sum()['Embarked']"
      ],
      "execution_count": null,
      "outputs": [
        {
          "output_type": "execute_result",
          "data": {
            "text/plain": [
              "2"
            ]
          },
          "metadata": {
            "tags": []
          },
          "execution_count": 23
        }
      ]
    },
    {
      "cell_type": "markdown",
      "metadata": {
        "id": "319oc_2LgNKa"
      },
      "source": [
        "Yes,there is only 2 entries are null,so we shall it with the major value,no problem at that filling"
      ]
    },
    {
      "cell_type": "code",
      "metadata": {
        "id": "2Qpbr95wgWmk",
        "colab": {
          "base_uri": "https://localhost:8080/"
        },
        "outputId": "58c91a3e-c24e-4091-fffd-c745f73bc913"
      },
      "source": [
        "DataFrame['Embarked'].fillna('S', inplace = True)\n",
        "DataFrame.isnull().sum()"
      ],
      "execution_count": null,
      "outputs": [
        {
          "output_type": "execute_result",
          "data": {
            "text/plain": [
              "PassengerId    0\n",
              "Survived       0\n",
              "Pclass         0\n",
              "Name           0\n",
              "Sex            0\n",
              "Age            0\n",
              "Ticket         0\n",
              "Fare           0\n",
              "Embarked       0\n",
              "Family_size    0\n",
              "dtype: int64"
            ]
          },
          "metadata": {
            "tags": []
          },
          "execution_count": 24
        }
      ]
    },
    {
      "cell_type": "code",
      "metadata": {
        "id": "yMi8XwyuhMNB"
      },
      "source": [
        "#We can see here that all the nullvalues have been filled.\n",
        "#This is called such dealing with null values."
      ],
      "execution_count": null,
      "outputs": []
    },
    {
      "cell_type": "code",
      "metadata": {
        "id": "9N61tO03hfJu",
        "colab": {
          "base_uri": "https://localhost:8080/",
          "height": 235
        },
        "outputId": "7129143d-3070-4f0d-fd6c-76dc43416161"
      },
      "source": [
        "DataFrame.corr()\n",
        "#corr() method is used to find the correlance between certain column."
      ],
      "execution_count": null,
      "outputs": [
        {
          "output_type": "execute_result",
          "data": {
            "text/html": [
              "<div>\n",
              "<style scoped>\n",
              "    .dataframe tbody tr th:only-of-type {\n",
              "        vertical-align: middle;\n",
              "    }\n",
              "\n",
              "    .dataframe tbody tr th {\n",
              "        vertical-align: top;\n",
              "    }\n",
              "\n",
              "    .dataframe thead th {\n",
              "        text-align: right;\n",
              "    }\n",
              "</style>\n",
              "<table border=\"1\" class=\"dataframe\">\n",
              "  <thead>\n",
              "    <tr style=\"text-align: right;\">\n",
              "      <th></th>\n",
              "      <th>PassengerId</th>\n",
              "      <th>Survived</th>\n",
              "      <th>Pclass</th>\n",
              "      <th>Age</th>\n",
              "      <th>Fare</th>\n",
              "      <th>Family_size</th>\n",
              "    </tr>\n",
              "  </thead>\n",
              "  <tbody>\n",
              "    <tr>\n",
              "      <th>PassengerId</th>\n",
              "      <td>1.000000</td>\n",
              "      <td>-0.005007</td>\n",
              "      <td>-0.035144</td>\n",
              "      <td>0.033207</td>\n",
              "      <td>0.012658</td>\n",
              "      <td>-0.040143</td>\n",
              "    </tr>\n",
              "    <tr>\n",
              "      <th>Survived</th>\n",
              "      <td>-0.005007</td>\n",
              "      <td>1.000000</td>\n",
              "      <td>-0.338481</td>\n",
              "      <td>-0.069809</td>\n",
              "      <td>0.257307</td>\n",
              "      <td>0.016639</td>\n",
              "    </tr>\n",
              "    <tr>\n",
              "      <th>Pclass</th>\n",
              "      <td>-0.035144</td>\n",
              "      <td>-0.338481</td>\n",
              "      <td>1.000000</td>\n",
              "      <td>-0.331339</td>\n",
              "      <td>-0.549500</td>\n",
              "      <td>0.065997</td>\n",
              "    </tr>\n",
              "    <tr>\n",
              "      <th>Age</th>\n",
              "      <td>0.033207</td>\n",
              "      <td>-0.069809</td>\n",
              "      <td>-0.331339</td>\n",
              "      <td>1.000000</td>\n",
              "      <td>0.091566</td>\n",
              "      <td>-0.248512</td>\n",
              "    </tr>\n",
              "    <tr>\n",
              "      <th>Fare</th>\n",
              "      <td>0.012658</td>\n",
              "      <td>0.257307</td>\n",
              "      <td>-0.549500</td>\n",
              "      <td>0.091566</td>\n",
              "      <td>1.000000</td>\n",
              "      <td>0.217138</td>\n",
              "    </tr>\n",
              "    <tr>\n",
              "      <th>Family_size</th>\n",
              "      <td>-0.040143</td>\n",
              "      <td>0.016639</td>\n",
              "      <td>0.065997</td>\n",
              "      <td>-0.248512</td>\n",
              "      <td>0.217138</td>\n",
              "      <td>1.000000</td>\n",
              "    </tr>\n",
              "  </tbody>\n",
              "</table>\n",
              "</div>"
            ],
            "text/plain": [
              "             PassengerId  Survived    Pclass       Age      Fare  Family_size\n",
              "PassengerId     1.000000 -0.005007 -0.035144  0.033207  0.012658    -0.040143\n",
              "Survived       -0.005007  1.000000 -0.338481 -0.069809  0.257307     0.016639\n",
              "Pclass         -0.035144 -0.338481  1.000000 -0.331339 -0.549500     0.065997\n",
              "Age             0.033207 -0.069809 -0.331339  1.000000  0.091566    -0.248512\n",
              "Fare            0.012658  0.257307 -0.549500  0.091566  1.000000     0.217138\n",
              "Family_size    -0.040143  0.016639  0.065997 -0.248512  0.217138     1.000000"
            ]
          },
          "metadata": {
            "tags": []
          },
          "execution_count": 26
        }
      ]
    },
    {
      "cell_type": "markdown",
      "metadata": {
        "id": "JvsNL1wAnSyh"
      },
      "source": [
        "Shall we have a look at the relation between survival rate and person is alone or with family,"
      ]
    },
    {
      "cell_type": "code",
      "metadata": {
        "id": "_qfufw9unjlU",
        "colab": {
          "base_uri": "https://localhost:8080/",
          "height": 204
        },
        "outputId": "a1bdfd48-6c27-4548-e18f-dd0bcbaa8f89"
      },
      "source": [
        "DataFrame['Alone']=[0 if DataFrame['Family_size'][i]>0 else 1 for i in DataFrame.index]\n",
        "DataFrame.head()"
      ],
      "execution_count": null,
      "outputs": [
        {
          "output_type": "execute_result",
          "data": {
            "text/html": [
              "<div>\n",
              "<style scoped>\n",
              "    .dataframe tbody tr th:only-of-type {\n",
              "        vertical-align: middle;\n",
              "    }\n",
              "\n",
              "    .dataframe tbody tr th {\n",
              "        vertical-align: top;\n",
              "    }\n",
              "\n",
              "    .dataframe thead th {\n",
              "        text-align: right;\n",
              "    }\n",
              "</style>\n",
              "<table border=\"1\" class=\"dataframe\">\n",
              "  <thead>\n",
              "    <tr style=\"text-align: right;\">\n",
              "      <th></th>\n",
              "      <th>PassengerId</th>\n",
              "      <th>Survived</th>\n",
              "      <th>Pclass</th>\n",
              "      <th>Name</th>\n",
              "      <th>Sex</th>\n",
              "      <th>Age</th>\n",
              "      <th>Ticket</th>\n",
              "      <th>Fare</th>\n",
              "      <th>Embarked</th>\n",
              "      <th>Family_size</th>\n",
              "      <th>Alone</th>\n",
              "    </tr>\n",
              "  </thead>\n",
              "  <tbody>\n",
              "    <tr>\n",
              "      <th>0</th>\n",
              "      <td>1</td>\n",
              "      <td>0</td>\n",
              "      <td>3</td>\n",
              "      <td>Braund, Mr. Owen Harris</td>\n",
              "      <td>male</td>\n",
              "      <td>22.0</td>\n",
              "      <td>A/5 21171</td>\n",
              "      <td>7.2500</td>\n",
              "      <td>S</td>\n",
              "      <td>1</td>\n",
              "      <td>0</td>\n",
              "    </tr>\n",
              "    <tr>\n",
              "      <th>1</th>\n",
              "      <td>2</td>\n",
              "      <td>1</td>\n",
              "      <td>1</td>\n",
              "      <td>Cumings, Mrs. John Bradley (Florence Briggs Th...</td>\n",
              "      <td>female</td>\n",
              "      <td>38.0</td>\n",
              "      <td>PC 17599</td>\n",
              "      <td>71.2833</td>\n",
              "      <td>C</td>\n",
              "      <td>1</td>\n",
              "      <td>0</td>\n",
              "    </tr>\n",
              "    <tr>\n",
              "      <th>2</th>\n",
              "      <td>3</td>\n",
              "      <td>1</td>\n",
              "      <td>3</td>\n",
              "      <td>Heikkinen, Miss. Laina</td>\n",
              "      <td>female</td>\n",
              "      <td>26.0</td>\n",
              "      <td>STON/O2. 3101282</td>\n",
              "      <td>7.9250</td>\n",
              "      <td>S</td>\n",
              "      <td>0</td>\n",
              "      <td>1</td>\n",
              "    </tr>\n",
              "    <tr>\n",
              "      <th>3</th>\n",
              "      <td>4</td>\n",
              "      <td>1</td>\n",
              "      <td>1</td>\n",
              "      <td>Futrelle, Mrs. Jacques Heath (Lily May Peel)</td>\n",
              "      <td>female</td>\n",
              "      <td>35.0</td>\n",
              "      <td>113803</td>\n",
              "      <td>53.1000</td>\n",
              "      <td>S</td>\n",
              "      <td>1</td>\n",
              "      <td>0</td>\n",
              "    </tr>\n",
              "    <tr>\n",
              "      <th>4</th>\n",
              "      <td>5</td>\n",
              "      <td>0</td>\n",
              "      <td>3</td>\n",
              "      <td>Allen, Mr. William Henry</td>\n",
              "      <td>male</td>\n",
              "      <td>35.0</td>\n",
              "      <td>373450</td>\n",
              "      <td>8.0500</td>\n",
              "      <td>S</td>\n",
              "      <td>0</td>\n",
              "      <td>1</td>\n",
              "    </tr>\n",
              "  </tbody>\n",
              "</table>\n",
              "</div>"
            ],
            "text/plain": [
              "   PassengerId  Survived  Pclass  ... Embarked Family_size  Alone\n",
              "0            1         0       3  ...        S           1      0\n",
              "1            2         1       1  ...        C           1      0\n",
              "2            3         1       3  ...        S           0      1\n",
              "3            4         1       1  ...        S           1      0\n",
              "4            5         0       3  ...        S           0      1\n",
              "\n",
              "[5 rows x 11 columns]"
            ]
          },
          "metadata": {
            "tags": []
          },
          "execution_count": 27
        }
      ]
    },
    {
      "cell_type": "markdown",
      "metadata": {
        "id": "9-UD9Op25Qt3"
      },
      "source": [
        "Let see the count of people travel alone."
      ]
    },
    {
      "cell_type": "code",
      "metadata": {
        "id": "qt6TcrP3ogit",
        "colab": {
          "base_uri": "https://localhost:8080/"
        },
        "outputId": "6c5fb431-bcf5-4cf8-eb1b-340453715963"
      },
      "source": [
        "DataFrame.groupby(['Alone'])['Survived'].mean()"
      ],
      "execution_count": null,
      "outputs": [
        {
          "output_type": "execute_result",
          "data": {
            "text/plain": [
              "Alone\n",
              "0    0.505650\n",
              "1    0.303538\n",
              "Name: Survived, dtype: float64"
            ]
          },
          "metadata": {
            "tags": []
          },
          "execution_count": 28
        }
      ]
    },
    {
      "cell_type": "markdown",
      "metadata": {
        "id": "BVahCBSSp8-v"
      },
      "source": [
        "This analysis says that if a person is travelling alone,then he has the lesser chance of survival,may be this is due to the reason that,person travelling alone will travel at cheaper class and person travel with family may travel in high class or rich class like that."
      ]
    },
    {
      "cell_type": "code",
      "metadata": {
        "id": "hnjlVgZzyr4O",
        "colab": {
          "base_uri": "https://localhost:8080/",
          "height": 111
        },
        "outputId": "e0afbcff-b66b-4fe2-91a9-d6cf7218b524"
      },
      "source": [
        "DataFrame[['Alone','Fare']].corr()"
      ],
      "execution_count": null,
      "outputs": [
        {
          "output_type": "execute_result",
          "data": {
            "text/html": [
              "<div>\n",
              "<style scoped>\n",
              "    .dataframe tbody tr th:only-of-type {\n",
              "        vertical-align: middle;\n",
              "    }\n",
              "\n",
              "    .dataframe tbody tr th {\n",
              "        vertical-align: top;\n",
              "    }\n",
              "\n",
              "    .dataframe thead th {\n",
              "        text-align: right;\n",
              "    }\n",
              "</style>\n",
              "<table border=\"1\" class=\"dataframe\">\n",
              "  <thead>\n",
              "    <tr style=\"text-align: right;\">\n",
              "      <th></th>\n",
              "      <th>Alone</th>\n",
              "      <th>Fare</th>\n",
              "    </tr>\n",
              "  </thead>\n",
              "  <tbody>\n",
              "    <tr>\n",
              "      <th>Alone</th>\n",
              "      <td>1.000000</td>\n",
              "      <td>-0.271832</td>\n",
              "    </tr>\n",
              "    <tr>\n",
              "      <th>Fare</th>\n",
              "      <td>-0.271832</td>\n",
              "      <td>1.000000</td>\n",
              "    </tr>\n",
              "  </tbody>\n",
              "</table>\n",
              "</div>"
            ],
            "text/plain": [
              "          Alone      Fare\n",
              "Alone  1.000000 -0.271832\n",
              "Fare  -0.271832  1.000000"
            ]
          },
          "metadata": {
            "tags": []
          },
          "execution_count": 29
        }
      ]
    },
    {
      "cell_type": "markdown",
      "metadata": {
        "id": "X8gISJ-8y9ay"
      },
      "source": [
        "Hence this correlance proving us that,the chance for higher price of ticket or fare is high,when a person is not travelling alone or travelling with family."
      ]
    },
    {
      "cell_type": "markdown",
      "metadata": {
        "id": "-nrgoOxpzfxB"
      },
      "source": [
        "So next,we shall have a look at relation between sex and survival rate,that is checking if the higher survival rate for male or female."
      ]
    },
    {
      "cell_type": "code",
      "metadata": {
        "id": "qTxJJ4Hezw9O",
        "colab": {
          "base_uri": "https://localhost:8080/"
        },
        "outputId": "da1e89f0-d06f-42e3-d862-05dcd23dbb1f"
      },
      "source": [
        "DataFrame['Sex']=[0 if DataFrame['Sex'][i]=='male' else 1 for i in DataFrame.index]\n",
        "#returns 0 if male \n",
        "#returns 1 if female\n",
        "DataFrame.groupby(['Sex'])['Survived'].mean()"
      ],
      "execution_count": null,
      "outputs": [
        {
          "output_type": "execute_result",
          "data": {
            "text/plain": [
              "Sex\n",
              "0    0.188908\n",
              "1    0.742038\n",
              "Name: Survived, dtype: float64"
            ]
          },
          "metadata": {
            "tags": []
          },
          "execution_count": 30
        }
      ]
    },
    {
      "cell_type": "markdown",
      "metadata": {
        "id": "TmwXJnJ14zmD"
      },
      "source": [
        "Here we can see that the female passengers have the more chance of survival than male."
      ]
    },
    {
      "cell_type": "markdown",
      "metadata": {
        "id": "YJwyagQy5bpF"
      },
      "source": [
        "So,next we shall see about the details that survival rate based on the 'Embarked'."
      ]
    },
    {
      "cell_type": "code",
      "metadata": {
        "id": "iv5rZoC45pg0",
        "colab": {
          "base_uri": "https://localhost:8080/"
        },
        "outputId": "b3a20de5-9b44-4f28-9b91-118adb736f89"
      },
      "source": [
        "DataFrame.groupby(['Embarked'])['Survived'].mean()\n"
      ],
      "execution_count": null,
      "outputs": [
        {
          "output_type": "execute_result",
          "data": {
            "text/plain": [
              "Embarked\n",
              "C    0.553571\n",
              "Q    0.389610\n",
              "S    0.339009\n",
              "Name: Survived, dtype: float64"
            ]
          },
          "metadata": {
            "tags": []
          },
          "execution_count": 31
        }
      ]
    },
    {
      "cell_type": "markdown",
      "metadata": {
        "id": "pAJUvRWD58OD"
      },
      "source": [
        "This analysis clearly sowing that people traveled to 'Cherbourg' has the higher chance of survival."
      ]
    },
    {
      "cell_type": "markdown",
      "metadata": {
        "id": "_mc1E5dW6TKw"
      },
      "source": [
        "CONCLUSION:\n"
      ]
    },
    {
      "cell_type": "markdown",
      "metadata": {
        "id": "i431cb6y6dks"
      },
      "source": [
        "1. People travelling in rich class has higher chance of survival.Partiality may be done at saving the passengers.   \n",
        "2. The female passengers have the higher survival chance.\n",
        "3. People travelled with family has the higher chance of survival. \n",
        "4. Passengers those travelled to 'cherbourg' survived more as compared to others.\n",
        "5. Majority of people boarded through to 'S'.\n",
        "6. During this event,Large number of people was not survived(died) in proportion as compared to survived people.\n",
        "7. Very less people travelled at '1 Pclass'.And large people travelled at '3 Pclass'.\n",
        "8. The majority people are male in that ship as compared to strenth of female proportion.\n",
        "9. The most of the people travelled have their age range of 27 to 30.\n",
        "10. Majority of people boarded alone through the ship.\n",
        "\n",
        "\n",
        "\n",
        "\n"
      ]
    }
  ]
}